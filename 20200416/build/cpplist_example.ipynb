{
 "cells": [
  {
   "cell_type": "code",
   "execution_count": 1,
   "metadata": {},
   "outputs": [],
   "source": [
    "import numpy as np\n",
    "import cpplist_example"
   ]
  },
  {
   "cell_type": "code",
   "execution_count": 2,
   "metadata": {},
   "outputs": [
    {
     "name": "stdout",
     "output_type": "stream",
     "text": [
      "Help on module cpplist_example:\n",
      "\n",
      "NAME\n",
      "    cpplist_example - pybind11 example plugin\n",
      "\n",
      "FUNCTIONS\n",
      "    add(...) method of builtins.PyCapsule instance\n",
      "        add(arg0: int, arg1: int) -> int\n",
      "        \n",
      "        A function which adds tow numbers\n",
      "    \n",
      "    append(...) method of builtins.PyCapsule instance\n",
      "        append(arg0: List[int], arg1: int) -> List[int]\n",
      "        \n",
      "        append function\n",
      "    \n",
      "    distance(...) method of builtins.PyCapsule instance\n",
      "        distance(arg0: Tuple[float, float], arg1: Tuple[float, float]) -> float\n",
      "        \n",
      "        return distance between 2 points\n",
      "    \n",
      "    return_0(...) method of builtins.PyCapsule instance\n",
      "        return_0(arg0: Tuple[float, float]) -> List[int]\n",
      "        \n",
      "        return [0]\n",
      "    \n",
      "    return_1(...) method of builtins.PyCapsule instance\n",
      "        return_1(arg0: List[Tuple[float, float]]) -> List[int]\n",
      "        \n",
      "        return [1]\n",
      "    \n",
      "    sum(...) method of builtins.PyCapsule instance\n",
      "        sum(arg0: int, arg1: int) -> int\n",
      "        \n",
      "        sum\n",
      "    \n",
      "    update1(...) method of builtins.PyCapsule instance\n",
      "        update1(arg0: List[float]) -> None\n",
      "        \n",
      "        update1 function\n",
      "    \n",
      "    update2(...) method of builtins.PyCapsule instance\n",
      "        update2(arg0: numpy.ndarray[float64]) -> None\n",
      "        \n",
      "        update2 function\n",
      "    \n",
      "    update3(...) method of builtins.PyCapsule instance\n",
      "        update3(arg0: numpy.ndarray[float64], arg1: int) -> float\n",
      "        \n",
      "        update3 function\n",
      "\n",
      "FILE\n",
      "    /Users/okamoto/Desktop/yutaokamoto_mac/cpp/20200416/build/cpplist_example.cpython-37m-darwin.so\n",
      "\n",
      "\n"
     ]
    }
   ],
   "source": [
    "help(cpplist_example)"
   ]
  },
  {
   "cell_type": "code",
   "execution_count": 3,
   "metadata": {},
   "outputs": [
    {
     "data": {
      "text/plain": [
       "[4, 3, 2, 0, 1, 2]"
      ]
     },
     "execution_count": 3,
     "metadata": {},
     "output_type": "execute_result"
    }
   ],
   "source": [
    "cpplist_example.append([4,3,2],len({4,3,2}))"
   ]
  },
  {
   "cell_type": "code",
   "execution_count": 4,
   "metadata": {},
   "outputs": [
    {
     "data": {
      "text/plain": [
       "[0]"
      ]
     },
     "execution_count": 4,
     "metadata": {},
     "output_type": "execute_result"
    }
   ],
   "source": [
    "cpplist_example.return_0((0.0,0.0))"
   ]
  },
  {
   "cell_type": "code",
   "execution_count": 5,
   "metadata": {},
   "outputs": [
    {
     "data": {
      "text/plain": [
       "[1]"
      ]
     },
     "execution_count": 5,
     "metadata": {},
     "output_type": "execute_result"
    }
   ],
   "source": [
    "cpplist_example.return_1([(0.0,0.0),(1.0,1.0)])"
   ]
  },
  {
   "cell_type": "code",
   "execution_count": 6,
   "metadata": {},
   "outputs": [
    {
     "data": {
      "text/plain": [
       "1.4142135623730951"
      ]
     },
     "execution_count": 6,
     "metadata": {},
     "output_type": "execute_result"
    }
   ],
   "source": [
    "cpplist_example.distance((0.0,0.0),(1.0,1.0))"
   ]
  },
  {
   "cell_type": "code",
   "execution_count": 7,
   "metadata": {},
   "outputs": [
    {
     "name": "stdout",
     "output_type": "stream",
     "text": [
      "[1.0, 2.0, 3.0]\n",
      "None\n",
      "8\n",
      "8.0\n"
     ]
    }
   ],
   "source": [
    "x = [1., 2., 3.]\n",
    "\n",
    "print(x)\n",
    "\n",
    "x_1 = cpplist_example.update1(x,)\n",
    "print(x_1)\n",
    "\n",
    "x_2 = cpplist_example.update2(x,)\n",
    "print(x_2)\n",
    "\n",
    "x_3 = cpplist_example.update3(x,len(x))\n",
    "print(x_3)"
   ]
  },
  {
   "cell_type": "code",
   "execution_count": 9,
   "metadata": {},
   "outputs": [
    {
     "name": "stdout",
     "output_type": "stream",
     "text": [
      "[1.0, 2.0, 3.0]\n",
      "[1.0, 2.0, 3.0]\n",
      "[1. 1. 1.]\n"
     ]
    }
   ],
   "source": [
    "x = [1., 2., 3.]\n",
    "\n",
    "print(x)\n",
    "cpplist_example.update1(x)\n",
    "print(x)\n",
    "\n",
    "x = np.array(x)\n",
    "cpplist_example.update2(x)\n",
    "print(x)"
   ]
  },
  {
   "cell_type": "code",
   "execution_count": null,
   "metadata": {},
   "outputs": [],
   "source": []
  }
 ],
 "metadata": {
  "kernelspec": {
   "display_name": "Python 3",
   "language": "python",
   "name": "python3"
  },
  "language_info": {
   "codemirror_mode": {
    "name": "ipython",
    "version": 3
   },
   "file_extension": ".py",
   "mimetype": "text/x-python",
   "name": "python",
   "nbconvert_exporter": "python",
   "pygments_lexer": "ipython3",
   "version": "3.7.7"
  }
 },
 "nbformat": 4,
 "nbformat_minor": 4
}
