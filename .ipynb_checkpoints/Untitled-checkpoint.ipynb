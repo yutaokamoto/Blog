{
 "cells": [
  {
   "cell_type": "code",
   "execution_count": 1,
   "metadata": {},
   "outputs": [],
   "source": [
    "import subprocess"
   ]
  },
  {
   "cell_type": "code",
   "execution_count": 3,
   "metadata": {
    "scrolled": true
   },
   "outputs": [
    {
     "name": "stdout",
     "output_type": "stream",
     "text": [
      "20190907\n",
      "20190908\n",
      "20190910\n",
      "20190911\n",
      "20190914\n",
      "20190916\n",
      "20190917\n",
      "20190918\n",
      "20190920\n",
      "20200413\n",
      "20200416\n",
      "20200503\n",
      "20200504\n",
      "20200526\n",
      "20200601\n",
      "20200702\n",
      "20200710\n",
      "20200719\n",
      "20200724\n",
      "20200725\n",
      "20210331\n",
      "20210408\n",
      "README.md\n",
      "Untitled.ipynb\n",
      "_config.yml\n",
      "docs\n",
      "index.md\n",
      "\n"
     ]
    }
   ],
   "source": [
    "out = subprocess.run([\"ls\"],stdout = subprocess.PIPE, stderr = subprocess.PIPE)\n",
    "print(out.stdout.decode(\"utf8\"))"
   ]
  },
  {
   "cell_type": "code",
   "execution_count": 13,
   "metadata": {},
   "outputs": [
    {
     "name": "stdout",
     "output_type": "stream",
     "text": [
      "['20190907', '20190908', '20190910', '20190911', '20190914', '20190916', '20190917', '20190918', '20190920', '20200413', '20200416', '20200503', '20200504', '20200526', '20200601', '20200702', '20200710', '20200719', '20200724', '20200725', '20210331', '20210408']\n"
     ]
    }
   ],
   "source": [
    "folders = out.stdout.decode(\"utf8\").split(\"\\n\")[:-6]\n",
    "print(folders)"
   ]
  },
  {
   "cell_type": "code",
   "execution_count": 16,
   "metadata": {
    "collapsed": true
   },
   "outputs": [
    {
     "name": "stdout",
     "output_type": "stream",
     "text": [
      "\n",
      "\n",
      "\n",
      "\n",
      "\n",
      "\n",
      "\n",
      "\n",
      "\n",
      "\n",
      "\n",
      "\n",
      "\n",
      "\n",
      "\n",
      "\n",
      "\n",
      "\n",
      "\n",
      "\n"
     ]
    }
   ],
   "source": [
    "for folder in folders[2:]:\n",
    "    out = subprocess.run([\"touch\", \"index.md\"], cwd = \"./\"+folder,stdout = subprocess.PIPE, stderr = subprocess.PIPE)"
   ]
  },
  {
   "cell_type": "code",
   "execution_count": 18,
   "metadata": {},
   "outputs": [],
   "source": [
    "path = \"/Users/okamoto/Desktop/yutaokamoto_mac/cpp_practice/\"\n",
    "file = \"index.md\"\n",
    "url = \"https://github.com/yutaokamoto/Blog/tree/master/\"\n",
    "for folder in folders[2:]:\n",
    "    with open(path+folder+file, mode=\"w\") as f:\n",
    "        f.write(\"[Open on GitHub]\" + \"(\"+url+folder+\")\\n\")"
   ]
  },
  {
   "cell_type": "code",
   "execution_count": null,
   "metadata": {},
   "outputs": [],
   "source": []
  }
 ],
 "metadata": {
  "kernelspec": {
   "display_name": "Python 3",
   "language": "python",
   "name": "python3"
  },
  "language_info": {
   "codemirror_mode": {
    "name": "ipython",
    "version": 3
   },
   "file_extension": ".py",
   "mimetype": "text/x-python",
   "name": "python",
   "nbconvert_exporter": "python",
   "pygments_lexer": "ipython3",
   "version": "3.7.7"
  }
 },
 "nbformat": 4,
 "nbformat_minor": 4
}
