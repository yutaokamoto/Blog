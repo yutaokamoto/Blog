{
 "cells": [
  {
   "cell_type": "code",
   "execution_count": 1,
   "metadata": {},
   "outputs": [
    {
     "ename": "ImportError",
     "evalue": "dlopen(/Users/okamoto/Desktop/yutaokamoto_mac/TSP/20200413/my_wrapper.so, 2): Symbol not found: __Py_tracemalloc_config\n  Referenced from: /usr/local/opt/boost-python3/lib/libboost_python38.dylib\n  Expected in: flat namespace\n in /usr/local/opt/boost-python3/lib/libboost_python38.dylib",
     "output_type": "error",
     "traceback": [
      "\u001b[0;31m---------------------------------------------------------------------------\u001b[0m",
      "\u001b[0;31mImportError\u001b[0m                               Traceback (most recent call last)",
      "\u001b[0;32m<ipython-input-1-1bd3ccd02a4d>\u001b[0m in \u001b[0;36m<module>\u001b[0;34m\u001b[0m\n\u001b[0;32m----> 1\u001b[0;31m \u001b[0;32mimport\u001b[0m \u001b[0mmy_wrapper\u001b[0m\u001b[0;34m\u001b[0m\u001b[0;34m\u001b[0m\u001b[0m\n\u001b[0m",
      "\u001b[0;31mImportError\u001b[0m: dlopen(/Users/okamoto/Desktop/yutaokamoto_mac/TSP/20200413/my_wrapper.so, 2): Symbol not found: __Py_tracemalloc_config\n  Referenced from: /usr/local/opt/boost-python3/lib/libboost_python38.dylib\n  Expected in: flat namespace\n in /usr/local/opt/boost-python3/lib/libboost_python38.dylib"
     ]
    }
   ],
   "source": [
    "import my_wrapper"
   ]
  },
  {
   "cell_type": "code",
   "execution_count": null,
   "metadata": {},
   "outputs": [],
   "source": []
  }
 ],
 "metadata": {
  "kernelspec": {
   "display_name": "Python 3",
   "language": "python",
   "name": "python3"
  },
  "language_info": {
   "codemirror_mode": {
    "name": "ipython",
    "version": 3
   },
   "file_extension": ".py",
   "mimetype": "text/x-python",
   "name": "python",
   "nbconvert_exporter": "python",
   "pygments_lexer": "ipython3",
   "version": "3.7.7"
  }
 },
 "nbformat": 4,
 "nbformat_minor": 4
}
